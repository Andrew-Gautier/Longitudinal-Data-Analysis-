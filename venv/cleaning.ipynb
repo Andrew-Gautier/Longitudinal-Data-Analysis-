{
 "cells": [
  {
   "cell_type": "markdown",
   "metadata": {},
   "source": [
    "\n",
    "## Cleaning Tasks\n",
    "-  Removing No information\n",
    "- Normalizing categorical data\n",
    "-  Longitudinal groupings\n",
    "\n",
    "\n"
   ]
  },
  {
   "cell_type": "code",
   "execution_count": 11,
   "metadata": {},
   "outputs": [
    {
     "name": "stderr",
     "output_type": "stream",
     "text": [
      "C:\\Users\\Andrew\\AppData\\Local\\Temp\\ipykernel_5044\\3499316782.py:24: DtypeWarning: Columns (20,22,24,26,28,41,44,46,48,51,61,63,65,67,69,71,90,91,92,93,94,95,96,97,98,99,100,101,102,103,104,105,106,107,108,109,110,111,112,113,114,134,156,165,176,179,189,217,220,222,224,226,228,230,232,234,236,238,240,242,244,246,248,250,252,254,256,258,260,262,264,266,268,270,272,382,397,399,401,419,421,423,432,445,454,494,574,605,613,638,674,690,704,707,710,715,727,738,744,746,803,804,809,810,811,812,820,831,833,835,837,843,904,959,960,961,969,970,971,972,982,1004,1007,1010,1024) have mixed types. Specify dtype option on import or set low_memory=False.\n",
      "  df = pd.read_csv(file_path)\n"
     ]
    },
    {
     "ename": "",
     "evalue": "",
     "output_type": "error",
     "traceback": [
      "\u001b[1;31mThe Kernel crashed while executing code in the current cell or a previous cell. \n",
      "\u001b[1;31mPlease review the code in the cell(s) to identify a possible cause of the failure. \n",
      "\u001b[1;31mClick <a href='https://aka.ms/vscodeJupyterKernelCrash'>here</a> for more info. \n",
      "\u001b[1;31mView Jupyter <a href='command:jupyter.viewOutput'>log</a> for further details."
     ]
    }
   ],
   "source": [
    "from enum import Enum\n",
    "import pandas as pd\n",
    "import numpy as np\n",
    "\n",
    "\n",
    "# NaN means replace with NaN\n",
    "class RemovalType(Enum):\n",
    "    NaN = 1\n",
    "    Outliers = 2\n",
    "\n",
    "\n",
    "def clean(df, bad_values, removal_type):\n",
    "    if removal_type == RemovalType.NaN:\n",
    "            cleaned_df = df.replace(bad_values, np.nan)\n",
    "    elif removal_type == RemovalType.Outliers:\n",
    "        # Implement your outlier removal logic here\n",
    "        cleaned_df = df  # Placeholder, replace with actual logic\n",
    "    else:\n",
    "        raise ValueError(\"Invalid removal type\")\n",
    "\n",
    "    return cleaned_df\n",
    "    \n",
    "file_path = 'URDC.csv'\n",
    "df = pd.read_csv(file_path)\n",
    "# First grouping, Numeric Longitudinal 0-1 values. Experiment #1\n",
    "\n",
    "\n",
    "# Lists of columns\n",
    "no_cleaning = ['NACCID', 'NACCVNUM']\n",
    "cross_sectional = ['EDUC', 'COGFLAGO']\n",
    "needs_cleaning = ['DECIN', 'DECCLIN', 'COGMEM', 'COGORI', 'COGJUDG', 'COGLANG', 'COGVIS', 'COGATTN', 'COGFLUC', 'COGOTHR', 'PROBAD']\n",
    "bad_entries = {-4, 8, 9}\n",
    "bad_entries_2 = {-4, 99, 888.0, 999}\n",
    "\n",
    "# Clean the specified columns\n",
    "df_dirty = df[needs_cleaning]\n",
    "df_clean = clean(df_dirty, bad_entries, RemovalType.NaN)\n",
    "\n",
    "\n",
    "df_dirty_cross = df[cross_sectional]\n",
    "df_clean_cross = clean(df_dirty_cross, bad_entries_2, RemovalType.NaN)\n",
    "\n",
    "# Concatenate the cleaned DataFrames with the columns that don't need cleaning\n",
    "final_df = pd.concat([df_clean, df_clean_cross, df[no_cleaning]], axis=1)\n",
    "\n",
    "output_file = 'experiment1.0.csv'\n",
    "final_df.to_csv(output_file, index=False)\n",
    "\n",
    "\n",
    "\n",
    "        \n",
    "\n"
   ]
  }
 ],
 "metadata": {
  "kernelspec": {
   "display_name": "venv",
   "language": "python",
   "name": "python3"
  },
  "language_info": {
   "codemirror_mode": {
    "name": "ipython",
    "version": 3
   },
   "file_extension": ".py",
   "mimetype": "text/x-python",
   "name": "python",
   "nbconvert_exporter": "python",
   "pygments_lexer": "ipython3",
   "version": "3.11.2"
  },
  "vscode": {
   "interpreter": {
    "hash": "1b4246db25d684fbc499a6d95a5095f6511e1098a3b4684996ab14525e2c59ab"
   }
  }
 },
 "nbformat": 4,
 "nbformat_minor": 2
}
