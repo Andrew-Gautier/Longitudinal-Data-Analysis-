{
 "cells": [
  {
   "cell_type": "code",
   "execution_count": 15,
   "metadata": {},
   "outputs": [
    {
     "name": "stderr",
     "output_type": "stream",
     "text": [
      "100%|██████████| 185831/185831 [00:04<00:00, 38658.20it/s]\n",
      "100%|██████████| 185831/185831 [00:05<00:00, 35382.89it/s]\n",
      "100%|██████████| 185831/185831 [00:05<00:00, 35681.81it/s]\n",
      "100%|██████████| 185831/185831 [00:05<00:00, 35491.02it/s]\n",
      "100%|██████████| 185831/185831 [00:05<00:00, 35518.29it/s]\n",
      "100%|██████████| 185831/185831 [00:05<00:00, 36167.96it/s]\n",
      "100%|██████████| 185831/185831 [00:05<00:00, 36295.11it/s]\n",
      "100%|██████████| 185831/185831 [00:05<00:00, 35999.78it/s]\n",
      "100%|██████████| 185831/185831 [00:05<00:00, 36196.12it/s]\n",
      "100%|██████████| 185831/185831 [00:05<00:00, 36104.58it/s]\n",
      "100%|██████████| 185831/185831 [00:05<00:00, 36451.74it/s]\n",
      "100%|██████████| 185831/185831 [00:05<00:00, 36147.58it/s]\n"
     ]
    }
   ],
   "source": [
    "import pandas as pd\n",
    "import numpy as np\n",
    "import matplotlib.pyplot as plt\n",
    "import seaborn as sns\n",
    "from tqdm import tqdm\n",
    "\n",
    "df = pd.read_csv('experiment1.0.csv')\n",
    "id = ['NACCID', 'NACCVNUM']\n",
    "cross_sectional = ['EDUC', 'COGFLAGO']\n",
    "longitudinal = ['DECIN', 'DECCLIN', 'COGMEM', 'COGORI', 'COGJUDG', 'COGLANG', 'COGVIS', 'COGATTN', 'COGFLUC', 'COGOTHR', 'PROBAD']\n",
    "visits = {}\n",
    "for index, row in tqdm(df.iterrows(), total=df.shape[0]):\n",
    "    naccid = row['NACCID']\n",
    "    naccvnum = row['NACCVNUM']\n",
    "    # If the id is not already in the dictionary, add it with the current visit number\n",
    "    if naccid not in visits:\n",
    "        visits[naccid] = naccvnum\n",
    "    # If the id is already in the dictionary, update the visit number if the current one is larger\n",
    "    else:\n",
    "        visits[naccid] = max(visits[naccid], naccvnum)\n",
    "\n",
    "vectors = {naccid: np.full(21, np.nan) for naccid in df['NACCID'].unique()}\n",
    "\n",
    "# ...\n",
    "\n",
    "def fill_vectors(variable):\n",
    "    for index, row in tqdm(df.iterrows(), total=df.shape[0]):\n",
    "        naccid = row['NACCID']\n",
    "        naccvnum = int(row['NACCVNUM'])\n",
    "        response = row[variable]\n",
    "        educ = row['EDUC']  # get the 'educ' value\n",
    "\n",
    "        # If naccvnum is 1, insert the 'educ' value at the first index\n",
    "        if naccvnum == 1:\n",
    "            vectors[naccid][0] = educ\n",
    "\n",
    "        # Subtract 1 from naccvnum to get the correct index for the response\n",
    "        vectors[naccid][naccvnum] = response\n",
    "\n",
    "for variable in longitudinal:\n",
    "    variable_name = variable\n",
    "    fill_vectors(variable)\n",
    "    df_vectors = pd.DataFrame.from_dict(vectors, orient='index')\n",
    "    df_vectors.to_csv(f'{variable_name} vectors.csv', index=False)\n",
    "\n",
    "average_visits = sum(visits.values()) / len(visits)\n",
    "min_visits = min(visits.values())\n",
    "max_visits = max(visits.values())\n",
    "total_persons = len(visits)\n",
    "# print(f'Average number of visits per person: {average_visits}')\n",
    "# print(f'Minimum number of visits per person: {min_visits}')\n",
    "# print(f'Maximum number of visits per person: {max_visits}')\n",
    "# print(f'Total number of unique persons: {total_persons}')"
   ]
  },
  {
   "cell_type": "markdown",
   "metadata": {},
   "source": [
    "Ranking vectors according to \n"
   ]
  },
  {
   "cell_type": "code",
   "execution_count": 23,
   "metadata": {},
   "outputs": [
    {
     "name": "stdout",
     "output_type": "stream",
     "text": [
      "Category   Other\n",
      "educ_bins       \n",
      "[0, 4)     100.0\n",
      "[4, 8)       NaN\n",
      "[8, 12)      NaN\n",
      "[12, 16)     NaN\n",
      "[16, 20)     NaN\n",
      "[20, 24)     NaN\n",
      "[24, 28)     NaN\n",
      "[28, 32)     NaN\n",
      "[32, 36)     NaN\n"
     ]
    },
    {
     "name": "stderr",
     "output_type": "stream",
     "text": [
      "C:\\Users\\Andrew\\AppData\\Local\\Temp\\ipykernel_3260\\1987503150.py:35: FutureWarning: The default of observed=False is deprecated and will be changed to True in a future version of pandas. Pass observed=False to retain current behavior or observed=True to adopt the future default and silence this warning.\n",
      "  grouped_df = df.groupby(['educ_bins', 'Category']).size().unstack().fillna(0)\n"
     ]
    }
   ],
   "source": [
    "\n",
    "import pandas as pd\n",
    "import numpy as np\n",
    "\n",
    "df = pd.read_csv('COGMEM vectors.csv', header=None)\n",
    "df = df.dropna()\n",
    "# Define a function to categorize vector rows\n",
    "def categorize_memory_responses(row):\n",
    "    # Check if all values are 0 or NaN\n",
    "    if all(val == 0 or pd.isna(val) for val in row[1:]):\n",
    "        return 'Only 0s or NaNs'\n",
    "    \n",
    "    # Check if all values are 1 or NaN\n",
    "    elif all(val == 1 or pd.isna(val) for val in row[1:]):\n",
    "        return 'Only 1s or NaNs'\n",
    "    \n",
    "    # Check if there is a mix of 1s, 0s, and NaNs\n",
    "    elif any(val == 1 for val in row[1:]) and any(val == 0 for val in row[1:]):\n",
    "        return 'Mix of 1s and 0s'\n",
    "    \n",
    "    # Check if all values are NaN\n",
    "    elif all(pd.isna(val) for val in row[1:]):\n",
    "        return 'Only NaNs'\n",
    "    \n",
    "    # Default case\n",
    "    else:\n",
    "        return 'Other'\n",
    "\n",
    "# Bin the 'educ' variable into groups of 4\n",
    "df['educ_bins'] = pd.cut(df[0], bins=np.arange(0, 40, 4), right=False)\n",
    "\n",
    "# Apply the categorization function to each row\n",
    "df['Category'] = df.apply(categorize_memory_responses, axis=1)\n",
    "\n",
    "# Group by 'educ_bins' and count occurrences of each category\n",
    "grouped_df = df.groupby(['educ_bins', 'Category']).size().unstack().fillna(0)\n",
    "\n",
    "# Calculate the percentage of each category within each bin\n",
    "grouped_df_percentage = grouped_df.div(grouped_df.sum(axis=1), axis=0) * 100\n",
    "\n",
    "# Display the resulting DataFrame\n",
    "print(grouped_df_percentage)\n"
   ]
  }
 ],
 "metadata": {
  "kernelspec": {
   "display_name": "venv",
   "language": "python",
   "name": "python3"
  },
  "language_info": {
   "codemirror_mode": {
    "name": "ipython",
    "version": 3
   },
   "file_extension": ".py",
   "mimetype": "text/x-python",
   "name": "python",
   "nbconvert_exporter": "python",
   "pygments_lexer": "ipython3",
   "version": "3.11.2"
  }
 },
 "nbformat": 4,
 "nbformat_minor": 2
}
